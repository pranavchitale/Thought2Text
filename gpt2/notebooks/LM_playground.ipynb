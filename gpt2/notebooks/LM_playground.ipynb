{
 "cells": [
  {
   "cell_type": "code",
   "execution_count": 1,
   "metadata": {},
   "outputs": [],
   "source": [
    "import re, argparse, sys\n",
    "import torch\n",
    "import numpy as np\n",
    "import matplotlib.pyplot as plt\n",
    "from torch.utils.data import Dataset, DataLoader\n",
    "from torch.optim import AdamW\n",
    "from tqdm.auto import tqdm\n",
    "from datasets import load_dataset\n",
    "from sklearn.metrics import accuracy_score, f1_score, recall_score, precision_score\n",
    "from transformers import GPT2LMHeadModel, GPT2TokenizerFast, get_scheduler\n",
    "\n",
    "import os, json, transformers"
   ]
  },
  {
   "cell_type": "code",
   "execution_count": 2,
   "metadata": {},
   "outputs": [
    {
     "name": "stderr",
     "output_type": "stream",
     "text": [
      "/opt/conda/lib/python3.10/site-packages/huggingface_hub/file_download.py:1132: FutureWarning: `resume_download` is deprecated and will be removed in version 1.0.0. Downloads always resume when possible. If you want to force a new download, use `force_download=True`.\n",
      "  warnings.warn(\n"
     ]
    }
   ],
   "source": [
    "dataset = load_dataset('cnn_dailymail', '3.0.0')\n",
    "\n",
    "modelname = 'distilbert/distilgpt2'\n",
    "gpt2_tokenizer = transformers.GPT2Tokenizer.from_pretrained(modelname, eos_token=None, bos_token=None, pad_token='<pad>', unk_token='<unk>', add_prefix_space=False)\n",
    "gpt2_model = GPT2LMHeadModel.from_pretrained(modelname)"
   ]
  },
  {
   "cell_type": "code",
   "execution_count": 3,
   "metadata": {},
   "outputs": [],
   "source": [
    "model = gpt2_model\n",
    "tokenizer = gpt2_tokenizer\n",
    "# tokenizer.pad_token = tokenizer.eos_token"
   ]
  },
  {
   "cell_type": "code",
   "execution_count": 4,
   "metadata": {},
   "outputs": [
    {
     "data": {
      "text/plain": [
       "14437"
      ]
     },
     "execution_count": 4,
     "metadata": {},
     "output_type": "execute_result"
    }
   ],
   "source": [
    "with open(os.path.join('/workspace/Thought2Text/semantic-decoding/data_lm/', 'perceived', \"vocab.json\"), \"r\") as f:\n",
    "    gpt_vocab = json.load(f)\n",
    "\n",
    "tokenizer.add_tokens(gpt_vocab)"
   ]
  },
  {
   "cell_type": "code",
   "execution_count": 14,
   "metadata": {},
   "outputs": [
    {
     "data": {
      "text/plain": [
       "('gpt2_tokenizer/tokenizer_config.json',\n",
       " 'gpt2_tokenizer/special_tokens_map.json',\n",
       " 'gpt2_tokenizer/vocab.json',\n",
       " 'gpt2_tokenizer/merges.txt',\n",
       " 'gpt2_tokenizer/added_tokens.json')"
      ]
     },
     "execution_count": 14,
     "metadata": {},
     "output_type": "execute_result"
    }
   ],
   "source": [
    "tokenizer.save_pretrained('gpt2_tokenizer')"
   ]
  },
  {
   "cell_type": "code",
   "execution_count": 6,
   "metadata": {},
   "outputs": [
    {
     "data": {
      "text/plain": [
       "Embedding(64696, 768)"
      ]
     },
     "execution_count": 6,
     "metadata": {},
     "output_type": "execute_result"
    }
   ],
   "source": [
    "model.resize_token_embeddings(len(tokenizer))"
   ]
  },
  {
   "cell_type": "code",
   "execution_count": 7,
   "metadata": {},
   "outputs": [],
   "source": [
    "device = torch.device(\"cuda\") if torch.cuda.is_available() else torch.device(\"cpu\")"
   ]
  },
  {
   "cell_type": "code",
   "execution_count": 8,
   "metadata": {},
   "outputs": [],
   "source": [
    "class cnnDataSet(Dataset):\n",
    "    def __init__(self, data):\n",
    "        self.data = data\n",
    "        self.id = self.data['id']\n",
    "        self.article = self.data['article']\n",
    "        self.highlights = self.data['highlights']\n",
    "        self.input_ids = torch.tensor(self.data['input_ids'])\n",
    "        self.attention_mask = torch.tensor(self.data['attention_mask'])\n",
    "\n",
    "    def __len__(self):\n",
    "        return len(self.input_ids)\n",
    "\n",
    "    def __getitem__(self, idx):\n",
    "        return self.input_ids[idx],  self.attention_mask[idx], torch.sum(self.attention_mask[idx])\n",
    "\n",
    "class HyperParameters():\n",
    "    def __init__(self, batch_sz=3, learn_rate = 1e-5, wt_decay = 1e-5, num_epochs = 2):\n",
    "        self.batch_size = batch_sz\n",
    "        self.num_epochs = num_epochs\n",
    "        self.learn_rate = learn_rate\n",
    "        self.wt_decay = wt_decay\n",
    "        pass\n",
    "\n",
    "    def get_hyperparam(self):\n",
    "        \"\"\"\n",
    "        Method to return the hyper-parameters of training the model in this order:\\\\\n",
    "        batch_size, learn_rate, weight_decay, num_epochs\n",
    "        \"\"\"\n",
    "        return self.batch_size, self.learn_rate, self.wt_decay, self.num_epochs\n",
    "\n",
    "def split_article(art):\n",
    "    splitstr = re.split(' -- ', art, 1)\n",
    "    # print(splitstr)\n",
    "    if len(splitstr) == 1 or (re.search(r'(\\([\\w+]+\\))|([A-Z][A-Z]+)|(\\([\\w\\s]+\\))|(\\([\\w]+\\.[\\w]+\\))', splitstr[0])) is None:\n",
    "        return art\n",
    "    else:\n",
    "        return splitstr[1]\n",
    "\n",
    "    \n",
    "def tokenize_str(examples):\n",
    "    # inputs = [doc for doc in examples[\"article\"]]\n",
    "    inputs = []\n",
    "    # labs = examples['highlights']\n",
    "    \n",
    "    inputs = [split_article(art) for art in examples['article']]\n",
    "\n",
    "    # model_inputs = gpt2_tokenizer(inputs, max_length=1024, truncation=True)\n",
    "    # labels = gpt2_tokenizer(text_target=labs, max_length=128, truncation=True)\n",
    "\n",
    "    model_inputs = tokenizer(inputs, max_length=1024, truncation=True, return_tensors='pt', padding='max_length')\n",
    "    # labels = tokenizer(text_target=labs, max_length=128, truncation=True)\n",
    "\n",
    "    # model_inputs[\"labels\"] = labels[\"input_ids\"]\n",
    "    return model_inputs\n",
    "\n",
    "\n",
    "def train_model(train_dataset, plot_loss_curves=True, model=gpt2_model, hyperparams=HyperParameters()):\n",
    "    '''\n",
    "    Method to fine tune and train the passed model\n",
    "    Returns nothing\n",
    "    train_dataset - The datset whose text is in the format PASSAGE\\nQUESTION?ANSWER\n",
    "    '''\n",
    "\n",
    "    # train_dataset = GPT2CustomDataset(training_text, training_labels, gpt2_tokenizer)\n",
    "    # unique_labels = train_dataset.get_unique_labels()\n",
    "    # unique_labels_encoding = {lab:gpt2_tokenizer.encode(lab)[0] for lab in unique_labels}\n",
    "    # Hyperparameters\n",
    "    batch_sz, learn_rate,  wt_decay, num_epochs, = hyperparams.get_hyperparam()\n",
    "\n",
    "    train_dataloader = DataLoader(train_dataset, batch_size=batch_sz)\n",
    "\n",
    "    # torch.set_default_device(device)\n",
    "    \n",
    "    # model.to(dtype=torch.float16)\n",
    "    model.to(device)\n",
    "    optimizer = AdamW(model.parameters(), lr=learn_rate, weight_decay=wt_decay)\n",
    "    # lossfunc = binary_cross_entropy_with_logits().to(device)\n",
    "    # print(model.parameters())\n",
    "    dataloader_len = len(train_dataloader)\n",
    "    num_training_steps = num_epochs * dataloader_len\n",
    "    \n",
    "    lr_scheduler = get_scheduler(\n",
    "        name=\"linear\", optimizer=optimizer, num_warmup_steps=0, num_training_steps=num_training_steps\n",
    "    )\n",
    "    \n",
    "    progress_bar = tqdm(range(num_training_steps))\n",
    "    loss_list = []\n",
    "\n",
    "    # Use FP16 for speed purposes\n",
    "    scaler = torch.cuda.amp.GradScaler()\n",
    "    # Update loss and other values every 3 iterations\n",
    "    accum_iter = 3\n",
    "    \n",
    "    torch.cuda.empty_cache()\n",
    "    model.train()\n",
    "    for epoch in range(num_epochs):\n",
    "        \n",
    "        epoch_loss = []\n",
    "        for  batch_idx, batch in enumerate(train_dataloader):\n",
    "            with torch.set_grad_enabled(True):\n",
    "\n",
    "\n",
    "                max_valid_input, max_valid_attention = trunc_batch(batch)\n",
    "                if ((batch_idx + 1) % accum_iter == 0) or (batch_idx + 1 == dataloader_len):                    \n",
    "                    optimizer.zero_grad()\n",
    "\n",
    "                with torch.cuda.amp.autocast():\n",
    "                    \n",
    "                    output = model(\n",
    "                                   input_ids = max_valid_input.to(device),\n",
    "                                   attention_mask=max_valid_attention.to(device),\n",
    "                                   labels=max_valid_input.to(device)\n",
    "                                   )\n",
    "                    loss = output.loss/accum_iter\n",
    "                \n",
    "                # loss.backward()\n",
    "                scaler.scale(loss).backward()\n",
    "                # model.float()\n",
    "                if ((batch_idx + 1) % accum_iter == 0) or (batch_idx + 1 == dataloader_len):\n",
    "                    # optimizer.step()\n",
    "                    scaler.step(optimizer)\n",
    "                    # scaler.step(lr_scheduler)\n",
    "                    # optimizer.zero_grad()\n",
    "                    scaler.update()\n",
    "                    lr_scheduler.step()\n",
    "            \n",
    "            progress_bar.update(1)\n",
    "            if plot_loss_curves:\n",
    "                loss_list.append(loss.item())\n",
    "                \n",
    "    if plot_loss_curves:\n",
    "        plot_loss_curve(loss_list, f'distil-gpt2 LM LR : {learn_rate}')\n",
    "\n",
    "\n",
    "def trunc_batch(batch):\n",
    "    max_pad = torch.max(batch[2])\n",
    "    # What we do here is that for all tensor in the batch, we truncate the attention and padding to the length of the \n",
    "    # maximum valid length, so save time and memory on computing the softmaxes\n",
    "    input_ids = torch.stack([b[:max_pad] for b in batch[0]])\n",
    "    attention_masks = torch.stack([b[:max_pad] for b in batch[1]])\n",
    "\n",
    "    return input_ids, attention_masks\n",
    "\n",
    "def plot_loss_curve(losslist, rword, save_title = 'loss_curve_a2_p2.png'):\n",
    "    l = len(losslist)\n",
    "    plt.plot(range(l), losslist)\n",
    "    plt.title(f'Plotting the loss across Iterations for \"{rword}\" ')    \n",
    "    plt.xlabel('Iterations')\n",
    "    plt.ylabel('Loss')\n",
    "    # plt.show()\n",
    "    plt.savefig(save_title)\n",
    "\n",
    "\n",
    "def main(hyperparams):\n",
    "    # Just training the first 10k articles for now\n",
    "    train = dataset['train'].select(range(10000))\n",
    "    test = dataset['test'].select(range(1000))\n",
    "    validation = dataset['validation']\n",
    "    tokenized_train = train.map(tokenize_str, batched=True)\n",
    "    tokenized_test = test.map(tokenize_str, batched=True)\n",
    "\n",
    "    tokenized_train_dataset = cnnDataSet(tokenized_train)\n",
    "    train_model(tokenized_train_dataset, plot_loss_curves=True, model=model, hyperparams=hyperparams)\n",
    "    \n",
    "    # https://pytorch.org/tutorials/beginner/saving_loading_models.html\n",
    "    torch.save(model, 'fineTunedDistilGPT2_cnnDaily')\n",
    "\n",
    "def initParser():\n",
    "    parser = argparse.ArgumentParser(\n",
    "        prog='gpt2/train_distilgpt2_cnnDaily.py',\n",
    "        description='Python script to train distilbert/gpt2 on CNN-Daily-News dataset'\n",
    "        )\n",
    "    base_hpm = HyperParameters()\n",
    "    batch_sz, learn_rate,  wt_decay, epochs, = base_hpm.get_hyperparam()\n",
    "    parser.add_argument('-b', '--batch-size', dest='batchsz', action='store', \n",
    "                        nargs='?',default=batch_sz, type=int, help=f'Batch Size. Default Value : {batch_sz}')\n",
    "    parser.add_argument('-l', '--learn-rate', dest='lrnrate', action='store', \n",
    "                        nargs='?',default=learn_rate, type=float, help=f'Learning Rate. Default Value : {learn_rate}')\n",
    "    parser.add_argument('-w', '--weight-decay', dest='wtdecay', action='store', \n",
    "                        nargs='?',default=wt_decay, type=float, help=f'Weight Decay. Default Value : {wt_decay}')\n",
    "    parser.add_argument('-e', '--epochs', dest='epochs', action='store', \n",
    "                        nargs='?',default=epochs, type=int, help=f'Num Epochs. Default Value : {epochs}')\n",
    "        \n",
    "    return parser"
   ]
  },
  {
   "cell_type": "code",
   "execution_count": 9,
   "metadata": {},
   "outputs": [],
   "source": [
    "parser = initParser()\n",
    "args = parser.parse_args(\"-b 8 -l 5e-7 -w 1e-2 -e 2\".split())\n",
    "args_hyperparams = HyperParameters(\n",
    "    batch_sz=args.batchsz,\n",
    "    learn_rate=args.lrnrate,\n",
    "    wt_decay=args.wtdecay,\n",
    "    num_epochs=args.epochs)\n",
    "\n",
    "# print(type(args.batchsz), type(args.epochs))\n",
    "# print(args_hyperparams.get_hyperparam())\n",
    "# main(args_hyperparams)"
   ]
  },
  {
   "cell_type": "code",
   "execution_count": 10,
   "metadata": {},
   "outputs": [
    {
     "data": {
      "application/vnd.jupyter.widget-view+json": {
       "model_id": "d3f15a953efd4fd58858705307c7413c",
       "version_major": 2,
       "version_minor": 0
      },
      "text/plain": [
       "Map:   0%|          | 0/20000 [00:00<?, ? examples/s]"
      ]
     },
     "metadata": {},
     "output_type": "display_data"
    },
    {
     "data": {
      "application/vnd.jupyter.widget-view+json": {
       "model_id": "2e17d56e9c7a4a788d998295c8692a3a",
       "version_major": 2,
       "version_minor": 0
      },
      "text/plain": [
       "Map:   0%|          | 0/2000 [00:00<?, ? examples/s]"
      ]
     },
     "metadata": {},
     "output_type": "display_data"
    }
   ],
   "source": [
    "# Just training the first 10k articles for now\n",
    "train = dataset['train'].select(range(20000))\n",
    "test = dataset['test'].select(range(2000))\n",
    "validation = dataset['validation']\n",
    "tokenized_train = train.map(tokenize_str, batched=True)\n",
    "tokenized_test = test.map(tokenize_str, batched=True)\n",
    "\n",
    "tokenized_train_dataset = cnnDataSet(tokenized_train)"
   ]
  },
  {
   "cell_type": "code",
   "execution_count": 11,
   "metadata": {},
   "outputs": [
    {
     "data": {
      "application/vnd.jupyter.widget-view+json": {
       "model_id": "77968da6c8664dfb97d542c4a7342567",
       "version_major": 2,
       "version_minor": 0
      },
      "text/plain": [
       "  0%|          | 0/5000 [00:00<?, ?it/s]"
      ]
     },
     "metadata": {},
     "output_type": "display_data"
    },
    {
     "name": "stderr",
     "output_type": "stream",
     "text": [
      "/opt/conda/lib/python3.10/site-packages/torch/optim/lr_scheduler.py:136: UserWarning: Detected call of `lr_scheduler.step()` before `optimizer.step()`. In PyTorch 1.1.0 and later, you should call them in the opposite order: `optimizer.step()` before `lr_scheduler.step()`.  Failure to do this will result in PyTorch skipping the first value of the learning rate schedule. See more details at https://pytorch.org/docs/stable/optim.html#how-to-adjust-learning-rate\n",
      "  warnings.warn(\"Detected call of `lr_scheduler.step()` before `optimizer.step()`. \"\n"
     ]
    },
    {
     "data": {
      "image/png": "[encoded data removed]",
      "text/plain": [
       "<Figure size 640x480 with 1 Axes>"
      ]
     },
     "metadata": {},
     "output_type": "display_data"
    }
   ],
   "source": [
    "train_model(tokenized_train_dataset, plot_loss_curves=True, model=model, hyperparams=args_hyperparams)"
   ]
  },
  {
   "cell_type": "code",
   "execution_count": 33,
   "metadata": {},
   "outputs": [
    {
     "ename": "AttributeError",
     "evalue": "'builtin_function_or_method' object has no attribute 'item'",
     "output_type": "error",
     "traceback": [
      "\u001b[0;31m---------------------------------------------------------------------------\u001b[0m",
      "\u001b[0;31mAttributeError\u001b[0m                            Traceback (most recent call last)",
      "Cell \u001b[0;32mIn[33], line 2\u001b[0m\n\u001b[1;32m      1\u001b[0m \u001b[38;5;28;01mfor\u001b[39;00m k,v \u001b[38;5;129;01min\u001b[39;00m gpt2_tokenizer\u001b[38;5;241m.\u001b[39mvocab\u001b[38;5;241m.\u001b[39mitems():\n\u001b[0;32m----> 2\u001b[0m     \u001b[38;5;28;01mif\u001b[39;00m v \u001b[38;5;241m==\u001b[39m \u001b[38;5;28;43mid\u001b[39;49m\u001b[38;5;241;43m.\u001b[39;49m\u001b[43mitem\u001b[49m():\n\u001b[1;32m      3\u001b[0m         \u001b[38;5;28mprint\u001b[39m(k)\n",
      "\u001b[0;31mAttributeError\u001b[0m: 'builtin_function_or_method' object has no attribute 'item'"
     ]
    }
   ],
   "source": [
    "for k,v in gpt2_tokenizer.vocab.items():\n",
    "    if v == id.item():\n",
    "        print(k)"
   ]
  },
  {
   "cell_type": "code",
   "execution_count": 13,
   "metadata": {},
   "outputs": [],
   "source": [
    "model.save_pretrained('gpt2_finetuned')"
   ]
  },
  {
   "cell_type": "code",
   "execution_count": 21,
   "metadata": {},
   "outputs": [],
   "source": [
    "import transformers"
   ]
  },
  {
   "cell_type": "code",
   "execution_count": 23,
   "metadata": {},
   "outputs": [],
   "source": [
    "gpt2 = transformers.AutoModelForCausalLM.from_pretrained('gpt2_pretrained')"
   ]
  },
  {
   "cell_type": "code",
   "execution_count": 30,
   "metadata": {},
   "outputs": [],
   "source": [
    "gpt2.eval()\n",
    "with torch.no_grad():\n",
    "    out = gpt2(**tokenizer('what to do in life? to', return_tensors='pt'))"
   ]
  },
  {
   "cell_type": "code",
   "execution_count": 1,
   "metadata": {},
   "outputs": [
    {
     "ename": "NameError",
     "evalue": "name 'torch' is not defined",
     "output_type": "error",
     "traceback": [
      "\u001b[0;31m---------------------------------------------------------------------------\u001b[0m",
      "\u001b[0;31mNameError\u001b[0m                                 Traceback (most recent call last)",
      "Cell \u001b[0;32mIn[1], line 1\u001b[0m\n\u001b[0;32m----> 1\u001b[0m \u001b[43mtorch\u001b[49m\u001b[38;5;241m.\u001b[39margmax(out\u001b[38;5;241m.\u001b[39mlogits[:,\u001b[38;5;241m-\u001b[39m\u001b[38;5;241m1\u001b[39m])\n",
      "\u001b[0;31mNameError\u001b[0m: name 'torch' is not defined"
     ]
    }
   ],
   "source": [
    "torch.argmax(out.logits[:,-1])"
   ]
  }
 ],
 "metadata": {
  "kernelspec": {
   "display_name": "base",
   "language": "python",
   "name": "python3"
  },
  "language_info": {
   "codemirror_mode": {
    "name": "ipython",
    "version": 3
   },
   "file_extension": ".py",
   "mimetype": "text/x-python",
   "name": "python",
   "nbconvert_exporter": "python",
   "pygments_lexer": "ipython3",
   "version": "3.10.13"
  }
 },
 "nbformat": 4,
 "nbformat_minor": 2
}
